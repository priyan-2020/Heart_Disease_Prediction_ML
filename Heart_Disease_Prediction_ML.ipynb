{
 "cells": [
  {
   "cell_type": "markdown",
   "id": "d2f66cc1",
   "metadata": {},
   "source": [
    "# Heart Disease Prediction"
   ]
  },
  {
   "cell_type": "markdown",
   "id": "ff71ba44",
   "metadata": {},
   "source": [
    "<h3> By Priyanka Roy </h3>\n",
    "\n",
    "<b> Objectives: </b>\n",
    "\n",
    "   * Explaining the features and target variable\n",
    "   * Deal with the missing values\n",
    "   * Performing One-hot Encoding\n",
    "   * Splitting the dataset into 80% training and 20% for testing. Adding random state and stratification\n",
    "   * Training with Decision Tree Classification\n",
    "   * Tree diagram of the Decision Tree\n",
    "   * Predict the value of 'Target Variable'\n",
    "   * Showing the Confusion Matrix, Classification report, and ROC-AUC &\n",
    "   * Determining the accuracy of the ML model\n",
    "   * Explaining the model"
   ]
  },
  {
   "cell_type": "markdown",
   "id": "368bb150",
   "metadata": {},
   "source": [
    "<h4> Reference(s): </h4>   <br> \n",
    "[1] <a href=\"https://archive.ics.uci.edu/ml/datasets/heart+disease\"> Dataset Source </a> <br>\n",
    "\n",
    "[2] <a href=\"https://github.com/priyan-2020/Heart_Disease_Prediction_ML/blob/main/processed.cleveland.data\"> My GitHub file </a>"
   ]
  },
  {
   "cell_type": "markdown",
   "id": "d576d19e",
   "metadata": {},
   "source": [
    "<h3>Import required libraries for the analysis</h3>"
   ]
  },
  {
   "cell_type": "code",
   "execution_count": 1,
   "id": "3ad8c4f7",
   "metadata": {},
   "outputs": [],
   "source": [
    "import pandas as pd\n",
    "import numpy as np\n",
    "\n",
    "from sklearn.tree import DecisionTreeClassifier, plot_tree\n",
    "from sklearn.model_selection import train_test_split, cross_val_score\n",
    "\n",
    "from sklearn.metrics import confusion_matrix, plot_confusion_matrix, classification_report, roc_curve, roc_auc_score\n",
    "\n",
    "import matplotlib.pyplot as plt\n",
    "import seaborn as sns\n",
    "\n",
    "import warnings\n",
    "warnings.filterwarnings(\"ignore\")"
   ]
  },
  {
   "cell_type": "markdown",
   "id": "04063218",
   "metadata": {},
   "source": [
    "<h3>Loading The Dataset</h3>"
   ]
  },
  {
   "cell_type": "code",
   "execution_count": 2,
   "id": "4013168a",
   "metadata": {
    "scrolled": true
   },
   "outputs": [
    {
     "data": {
      "text/html": [
       "<div>\n",
       "<style scoped>\n",
       "    .dataframe tbody tr th:only-of-type {\n",
       "        vertical-align: middle;\n",
       "    }\n",
       "\n",
       "    .dataframe tbody tr th {\n",
       "        vertical-align: top;\n",
       "    }\n",
       "\n",
       "    .dataframe thead th {\n",
       "        text-align: right;\n",
       "    }\n",
       "</style>\n",
       "<table border=\"1\" class=\"dataframe\">\n",
       "  <thead>\n",
       "    <tr style=\"text-align: right;\">\n",
       "      <th></th>\n",
       "      <th>0</th>\n",
       "      <th>1</th>\n",
       "      <th>2</th>\n",
       "      <th>3</th>\n",
       "      <th>4</th>\n",
       "      <th>5</th>\n",
       "      <th>6</th>\n",
       "      <th>7</th>\n",
       "      <th>8</th>\n",
       "      <th>9</th>\n",
       "      <th>10</th>\n",
       "      <th>11</th>\n",
       "      <th>12</th>\n",
       "      <th>13</th>\n",
       "    </tr>\n",
       "  </thead>\n",
       "  <tbody>\n",
       "    <tr>\n",
       "      <th>0</th>\n",
       "      <td>63.0</td>\n",
       "      <td>1.0</td>\n",
       "      <td>1.0</td>\n",
       "      <td>145.0</td>\n",
       "      <td>233.0</td>\n",
       "      <td>1.0</td>\n",
       "      <td>2.0</td>\n",
       "      <td>150.0</td>\n",
       "      <td>0.0</td>\n",
       "      <td>2.3</td>\n",
       "      <td>3.0</td>\n",
       "      <td>0.0</td>\n",
       "      <td>6.0</td>\n",
       "      <td>0</td>\n",
       "    </tr>\n",
       "    <tr>\n",
       "      <th>1</th>\n",
       "      <td>67.0</td>\n",
       "      <td>1.0</td>\n",
       "      <td>4.0</td>\n",
       "      <td>160.0</td>\n",
       "      <td>286.0</td>\n",
       "      <td>0.0</td>\n",
       "      <td>2.0</td>\n",
       "      <td>108.0</td>\n",
       "      <td>1.0</td>\n",
       "      <td>1.5</td>\n",
       "      <td>2.0</td>\n",
       "      <td>3.0</td>\n",
       "      <td>3.0</td>\n",
       "      <td>2</td>\n",
       "    </tr>\n",
       "    <tr>\n",
       "      <th>2</th>\n",
       "      <td>67.0</td>\n",
       "      <td>1.0</td>\n",
       "      <td>4.0</td>\n",
       "      <td>120.0</td>\n",
       "      <td>229.0</td>\n",
       "      <td>0.0</td>\n",
       "      <td>2.0</td>\n",
       "      <td>129.0</td>\n",
       "      <td>1.0</td>\n",
       "      <td>2.6</td>\n",
       "      <td>2.0</td>\n",
       "      <td>2.0</td>\n",
       "      <td>7.0</td>\n",
       "      <td>1</td>\n",
       "    </tr>\n",
       "    <tr>\n",
       "      <th>3</th>\n",
       "      <td>37.0</td>\n",
       "      <td>1.0</td>\n",
       "      <td>3.0</td>\n",
       "      <td>130.0</td>\n",
       "      <td>250.0</td>\n",
       "      <td>0.0</td>\n",
       "      <td>0.0</td>\n",
       "      <td>187.0</td>\n",
       "      <td>0.0</td>\n",
       "      <td>3.5</td>\n",
       "      <td>3.0</td>\n",
       "      <td>0.0</td>\n",
       "      <td>3.0</td>\n",
       "      <td>0</td>\n",
       "    </tr>\n",
       "    <tr>\n",
       "      <th>4</th>\n",
       "      <td>41.0</td>\n",
       "      <td>0.0</td>\n",
       "      <td>2.0</td>\n",
       "      <td>130.0</td>\n",
       "      <td>204.0</td>\n",
       "      <td>0.0</td>\n",
       "      <td>2.0</td>\n",
       "      <td>172.0</td>\n",
       "      <td>0.0</td>\n",
       "      <td>1.4</td>\n",
       "      <td>1.0</td>\n",
       "      <td>0.0</td>\n",
       "      <td>3.0</td>\n",
       "      <td>0</td>\n",
       "    </tr>\n",
       "  </tbody>\n",
       "</table>\n",
       "</div>"
      ],
      "text/plain": [
       "     0    1    2      3      4    5    6      7    8    9    10   11   12  13\n",
       "0  63.0  1.0  1.0  145.0  233.0  1.0  2.0  150.0  0.0  2.3  3.0  0.0  6.0   0\n",
       "1  67.0  1.0  4.0  160.0  286.0  0.0  2.0  108.0  1.0  1.5  2.0  3.0  3.0   2\n",
       "2  67.0  1.0  4.0  120.0  229.0  0.0  2.0  129.0  1.0  2.6  2.0  2.0  7.0   1\n",
       "3  37.0  1.0  3.0  130.0  250.0  0.0  0.0  187.0  0.0  3.5  3.0  0.0  3.0   0\n",
       "4  41.0  0.0  2.0  130.0  204.0  0.0  2.0  172.0  0.0  1.4  1.0  0.0  3.0   0"
      ]
     },
     "metadata": {},
     "output_type": "display_data"
    },
    {
     "name": "stdout",
     "output_type": "stream",
     "text": [
      "(297, 14)\n"
     ]
    }
   ],
   "source": [
    "df= pd.read_csv('processed.cleveland.data', header = None,na_values = '?')\n",
    "df= df.dropna()\n",
    "display(df.head())\n",
    "#df.info()\n",
    "print(df.shape)"
   ]
  },
  {
   "cell_type": "markdown",
   "id": "2ca0e09c",
   "metadata": {},
   "source": [
    "<h3>Renaming Columns</h3>"
   ]
  },
  {
   "cell_type": "code",
   "execution_count": 3,
   "id": "8992c6f8",
   "metadata": {},
   "outputs": [
    {
     "data": {
      "text/html": [
       "<div>\n",
       "<style scoped>\n",
       "    .dataframe tbody tr th:only-of-type {\n",
       "        vertical-align: middle;\n",
       "    }\n",
       "\n",
       "    .dataframe tbody tr th {\n",
       "        vertical-align: top;\n",
       "    }\n",
       "\n",
       "    .dataframe thead th {\n",
       "        text-align: right;\n",
       "    }\n",
       "</style>\n",
       "<table border=\"1\" class=\"dataframe\">\n",
       "  <thead>\n",
       "    <tr style=\"text-align: right;\">\n",
       "      <th></th>\n",
       "      <th>Age</th>\n",
       "      <th>Sex</th>\n",
       "      <th>Chest_pain</th>\n",
       "      <th>Rest_BP</th>\n",
       "      <th>Cholestoral_Level</th>\n",
       "      <th>Fasting_Blood_Sugar</th>\n",
       "      <th>rest_ECG</th>\n",
       "      <th>Max_bpm</th>\n",
       "      <th>Aangina</th>\n",
       "      <th>old_peak</th>\n",
       "      <th>slope</th>\n",
       "      <th>CA</th>\n",
       "      <th>thal</th>\n",
       "      <th>Heart_disease</th>\n",
       "    </tr>\n",
       "  </thead>\n",
       "  <tbody>\n",
       "    <tr>\n",
       "      <th>0</th>\n",
       "      <td>63.0</td>\n",
       "      <td>1.0</td>\n",
       "      <td>1.0</td>\n",
       "      <td>145.0</td>\n",
       "      <td>233.0</td>\n",
       "      <td>1.0</td>\n",
       "      <td>2.0</td>\n",
       "      <td>150.0</td>\n",
       "      <td>0.0</td>\n",
       "      <td>2.3</td>\n",
       "      <td>3.0</td>\n",
       "      <td>0.0</td>\n",
       "      <td>6.0</td>\n",
       "      <td>0</td>\n",
       "    </tr>\n",
       "    <tr>\n",
       "      <th>1</th>\n",
       "      <td>67.0</td>\n",
       "      <td>1.0</td>\n",
       "      <td>4.0</td>\n",
       "      <td>160.0</td>\n",
       "      <td>286.0</td>\n",
       "      <td>0.0</td>\n",
       "      <td>2.0</td>\n",
       "      <td>108.0</td>\n",
       "      <td>1.0</td>\n",
       "      <td>1.5</td>\n",
       "      <td>2.0</td>\n",
       "      <td>3.0</td>\n",
       "      <td>3.0</td>\n",
       "      <td>2</td>\n",
       "    </tr>\n",
       "    <tr>\n",
       "      <th>2</th>\n",
       "      <td>67.0</td>\n",
       "      <td>1.0</td>\n",
       "      <td>4.0</td>\n",
       "      <td>120.0</td>\n",
       "      <td>229.0</td>\n",
       "      <td>0.0</td>\n",
       "      <td>2.0</td>\n",
       "      <td>129.0</td>\n",
       "      <td>1.0</td>\n",
       "      <td>2.6</td>\n",
       "      <td>2.0</td>\n",
       "      <td>2.0</td>\n",
       "      <td>7.0</td>\n",
       "      <td>1</td>\n",
       "    </tr>\n",
       "    <tr>\n",
       "      <th>3</th>\n",
       "      <td>37.0</td>\n",
       "      <td>1.0</td>\n",
       "      <td>3.0</td>\n",
       "      <td>130.0</td>\n",
       "      <td>250.0</td>\n",
       "      <td>0.0</td>\n",
       "      <td>0.0</td>\n",
       "      <td>187.0</td>\n",
       "      <td>0.0</td>\n",
       "      <td>3.5</td>\n",
       "      <td>3.0</td>\n",
       "      <td>0.0</td>\n",
       "      <td>3.0</td>\n",
       "      <td>0</td>\n",
       "    </tr>\n",
       "    <tr>\n",
       "      <th>4</th>\n",
       "      <td>41.0</td>\n",
       "      <td>0.0</td>\n",
       "      <td>2.0</td>\n",
       "      <td>130.0</td>\n",
       "      <td>204.0</td>\n",
       "      <td>0.0</td>\n",
       "      <td>2.0</td>\n",
       "      <td>172.0</td>\n",
       "      <td>0.0</td>\n",
       "      <td>1.4</td>\n",
       "      <td>1.0</td>\n",
       "      <td>0.0</td>\n",
       "      <td>3.0</td>\n",
       "      <td>0</td>\n",
       "    </tr>\n",
       "  </tbody>\n",
       "</table>\n",
       "</div>"
      ],
      "text/plain": [
       "    Age  Sex  Chest_pain  Rest_BP  Cholestoral_Level  Fasting_Blood_Sugar  \\\n",
       "0  63.0  1.0         1.0    145.0              233.0                  1.0   \n",
       "1  67.0  1.0         4.0    160.0              286.0                  0.0   \n",
       "2  67.0  1.0         4.0    120.0              229.0                  0.0   \n",
       "3  37.0  1.0         3.0    130.0              250.0                  0.0   \n",
       "4  41.0  0.0         2.0    130.0              204.0                  0.0   \n",
       "\n",
       "   rest_ECG  Max_bpm  Aangina  old_peak  slope   CA  thal  Heart_disease  \n",
       "0       2.0    150.0      0.0       2.3    3.0  0.0   6.0              0  \n",
       "1       2.0    108.0      1.0       1.5    2.0  3.0   3.0              2  \n",
       "2       2.0    129.0      1.0       2.6    2.0  2.0   7.0              1  \n",
       "3       0.0    187.0      0.0       3.5    3.0  0.0   3.0              0  \n",
       "4       2.0    172.0      0.0       1.4    1.0  0.0   3.0              0  "
      ]
     },
     "metadata": {},
     "output_type": "display_data"
    }
   ],
   "source": [
    "df.columns = ['Age', 'Sex', 'Chest_pain', 'Rest_BP', 'Cholestoral_Level', 'Fasting_Blood_Sugar', \n",
    "              'rest_ECG', 'Max_bpm', 'Aangina', 'old_peak', \n",
    "              'slope', 'CA', 'thal', 'Heart_disease']\n",
    "\n",
    "display(df.head())"
   ]
  },
  {
   "cell_type": "markdown",
   "id": "52429785",
   "metadata": {},
   "source": [
    "<h3>About the Dataset and checking for missing values</h3>"
   ]
  },
  {
   "cell_type": "code",
   "execution_count": 4,
   "id": "00892037",
   "metadata": {},
   "outputs": [
    {
     "name": "stdout",
     "output_type": "stream",
     "text": [
      "<class 'pandas.core.frame.DataFrame'>\n",
      "Int64Index: 297 entries, 0 to 301\n",
      "Data columns (total 14 columns):\n",
      " #   Column               Non-Null Count  Dtype  \n",
      "---  ------               --------------  -----  \n",
      " 0   Age                  297 non-null    float64\n",
      " 1   Sex                  297 non-null    float64\n",
      " 2   Chest_pain           297 non-null    float64\n",
      " 3   Rest_BP              297 non-null    float64\n",
      " 4   Cholestoral_Level    297 non-null    float64\n",
      " 5   Fasting_Blood_Sugar  297 non-null    float64\n",
      " 6   rest_ECG             297 non-null    float64\n",
      " 7   Max_bpm              297 non-null    float64\n",
      " 8   Aangina              297 non-null    float64\n",
      " 9   old_peak             297 non-null    float64\n",
      " 10  slope                297 non-null    float64\n",
      " 11  CA                   297 non-null    float64\n",
      " 12  thal                 297 non-null    float64\n",
      " 13  Heart_disease        297 non-null    int64  \n",
      "dtypes: float64(13), int64(1)\n",
      "memory usage: 34.8 KB\n"
     ]
    },
    {
     "data": {
      "text/plain": [
       "Age                    0\n",
       "Sex                    0\n",
       "Chest_pain             0\n",
       "Rest_BP                0\n",
       "Cholestoral_Level      0\n",
       "Fasting_Blood_Sugar    0\n",
       "rest_ECG               0\n",
       "Max_bpm                0\n",
       "Aangina                0\n",
       "old_peak               0\n",
       "slope                  0\n",
       "CA                     0\n",
       "thal                   0\n",
       "Heart_disease          0\n",
       "dtype: int64"
      ]
     },
     "execution_count": 4,
     "metadata": {},
     "output_type": "execute_result"
    }
   ],
   "source": [
    "df.info()\n",
    "df.isnull().sum()"
   ]
  },
  {
   "cell_type": "markdown",
   "id": "080efa96",
   "metadata": {},
   "source": [
    "<h4>Remarks/Observations:</h4> \n",
    "<h6>The dataset has following features-</h6>\n",
    "\n",
    "* <b>age</b>: person's age in years\n",
    "* <b>sex</b>: person's sex- 1 for male and 0 for female\n",
    "* <b>cp</b>: chest pain type (4 values)- typical angina, atypical angina, non-anginal pain, asymptomatic\n",
    "* <b>trestbps</b>: resting blood pressure\n",
    "* <b>chol</b>: serum cholestoral in mg/dl\n",
    "* <b>fbs</b>: fasting blood sugar > 120 mg/dl (1- T ; 0- F)\n",
    "* <b>testecg</b>: resting electrocardiographic results where, 0 = normal, 1 = having ST-T wave abnormality (T wave inversions and/or ST elevation or depression of > 0.05 mV) and 2 = showing probable or definite left ventricular hypertrophy by Estes' criteria\n",
    "* <b>thalach</b>: maximum heart rate achieved\n",
    "* <b>exang</b>: exercise induced angina\n",
    "* <b>oldpeak</b>: oldpeak = ST depression induced by exercise relative to rest\n",
    "* <b>slope</b>: the slope of the peak exercise ST segment (1 = upsloping, 2 = flat, 3 = downsloping)\n",
    "* <b>ca</b>: number of major vessels (0-3) colored by flourosopy\n",
    "* <b>thal</b>: 3 = normal; 6 = fixed defect; 7 = reversable defect\n",
    "* <b>hd</b>: heart disease, which is our <b>target variable</b> (0 = no, 1 = yes)."
   ]
  },
  {
   "cell_type": "markdown",
   "id": "55814e6e",
   "metadata": {},
   "source": [
    "<h3>Target Variable: 'hd'/Heart_disease</h3>"
   ]
  },
  {
   "cell_type": "code",
   "execution_count": 5,
   "id": "9955055a",
   "metadata": {},
   "outputs": [
    {
     "name": "stdout",
     "output_type": "stream",
     "text": [
      "0    160\n",
      "1     54\n",
      "2     35\n",
      "3     35\n",
      "4     13\n",
      "Name: Heart_disease, dtype: int64\n"
     ]
    }
   ],
   "source": [
    "print(df['Heart_disease'].value_counts())"
   ]
  },
  {
   "cell_type": "code",
   "execution_count": 6,
   "id": "1650fc2b",
   "metadata": {},
   "outputs": [
    {
     "name": "stdout",
     "output_type": "stream",
     "text": [
      "0    160\n",
      "1    137\n",
      "Name: Heart_disease, dtype: int64\n"
     ]
    },
    {
     "data": {
      "text/html": [
       "<div>\n",
       "<style scoped>\n",
       "    .dataframe tbody tr th:only-of-type {\n",
       "        vertical-align: middle;\n",
       "    }\n",
       "\n",
       "    .dataframe tbody tr th {\n",
       "        vertical-align: top;\n",
       "    }\n",
       "\n",
       "    .dataframe thead th {\n",
       "        text-align: right;\n",
       "    }\n",
       "</style>\n",
       "<table border=\"1\" class=\"dataframe\">\n",
       "  <thead>\n",
       "    <tr style=\"text-align: right;\">\n",
       "      <th></th>\n",
       "      <th>Age</th>\n",
       "      <th>Sex</th>\n",
       "      <th>Chest_pain</th>\n",
       "      <th>Rest_BP</th>\n",
       "      <th>Cholestoral_Level</th>\n",
       "      <th>Fasting_Blood_Sugar</th>\n",
       "      <th>rest_ECG</th>\n",
       "      <th>Max_bpm</th>\n",
       "      <th>Aangina</th>\n",
       "      <th>old_peak</th>\n",
       "      <th>slope</th>\n",
       "      <th>CA</th>\n",
       "      <th>thal</th>\n",
       "      <th>Heart_disease</th>\n",
       "    </tr>\n",
       "  </thead>\n",
       "  <tbody>\n",
       "    <tr>\n",
       "      <th>count</th>\n",
       "      <td>297.000000</td>\n",
       "      <td>297.000000</td>\n",
       "      <td>297.000000</td>\n",
       "      <td>297.000000</td>\n",
       "      <td>297.000000</td>\n",
       "      <td>297.000000</td>\n",
       "      <td>297.000000</td>\n",
       "      <td>297.000000</td>\n",
       "      <td>297.000000</td>\n",
       "      <td>297.000000</td>\n",
       "      <td>297.000000</td>\n",
       "      <td>297.000000</td>\n",
       "      <td>297.000000</td>\n",
       "      <td>297.000000</td>\n",
       "    </tr>\n",
       "    <tr>\n",
       "      <th>mean</th>\n",
       "      <td>38.750842</td>\n",
       "      <td>0.730640</td>\n",
       "      <td>2.390572</td>\n",
       "      <td>94.101010</td>\n",
       "      <td>176.754209</td>\n",
       "      <td>0.367003</td>\n",
       "      <td>0.942761</td>\n",
       "      <td>112.252525</td>\n",
       "      <td>0.437710</td>\n",
       "      <td>0.787879</td>\n",
       "      <td>1.336700</td>\n",
       "      <td>0.562290</td>\n",
       "      <td>3.286195</td>\n",
       "      <td>0.461279</td>\n",
       "    </tr>\n",
       "    <tr>\n",
       "      <th>std</th>\n",
       "      <td>24.818501</td>\n",
       "      <td>0.444376</td>\n",
       "      <td>1.197821</td>\n",
       "      <td>59.822795</td>\n",
       "      <td>117.816094</td>\n",
       "      <td>0.482801</td>\n",
       "      <td>0.846349</td>\n",
       "      <td>71.612180</td>\n",
       "      <td>0.496942</td>\n",
       "      <td>0.742977</td>\n",
       "      <td>0.546271</td>\n",
       "      <td>0.675582</td>\n",
       "      <td>2.083294</td>\n",
       "      <td>0.499340</td>\n",
       "    </tr>\n",
       "    <tr>\n",
       "      <th>min</th>\n",
       "      <td>1.000000</td>\n",
       "      <td>0.000000</td>\n",
       "      <td>1.000000</td>\n",
       "      <td>1.000000</td>\n",
       "      <td>1.000000</td>\n",
       "      <td>0.000000</td>\n",
       "      <td>0.000000</td>\n",
       "      <td>1.000000</td>\n",
       "      <td>0.000000</td>\n",
       "      <td>0.000000</td>\n",
       "      <td>1.000000</td>\n",
       "      <td>0.000000</td>\n",
       "      <td>1.000000</td>\n",
       "      <td>0.000000</td>\n",
       "    </tr>\n",
       "    <tr>\n",
       "      <th>25%</th>\n",
       "      <td>1.000000</td>\n",
       "      <td>0.000000</td>\n",
       "      <td>1.000000</td>\n",
       "      <td>1.000000</td>\n",
       "      <td>1.000000</td>\n",
       "      <td>0.000000</td>\n",
       "      <td>0.000000</td>\n",
       "      <td>1.000000</td>\n",
       "      <td>0.000000</td>\n",
       "      <td>0.000000</td>\n",
       "      <td>1.000000</td>\n",
       "      <td>0.000000</td>\n",
       "      <td>1.000000</td>\n",
       "      <td>0.000000</td>\n",
       "    </tr>\n",
       "    <tr>\n",
       "      <th>50%</th>\n",
       "      <td>48.000000</td>\n",
       "      <td>1.000000</td>\n",
       "      <td>2.000000</td>\n",
       "      <td>120.000000</td>\n",
       "      <td>218.000000</td>\n",
       "      <td>0.000000</td>\n",
       "      <td>1.000000</td>\n",
       "      <td>149.000000</td>\n",
       "      <td>0.000000</td>\n",
       "      <td>1.000000</td>\n",
       "      <td>1.000000</td>\n",
       "      <td>0.000000</td>\n",
       "      <td>3.000000</td>\n",
       "      <td>0.000000</td>\n",
       "    </tr>\n",
       "    <tr>\n",
       "      <th>75%</th>\n",
       "      <td>58.000000</td>\n",
       "      <td>1.000000</td>\n",
       "      <td>3.000000</td>\n",
       "      <td>135.000000</td>\n",
       "      <td>258.000000</td>\n",
       "      <td>1.000000</td>\n",
       "      <td>2.000000</td>\n",
       "      <td>164.000000</td>\n",
       "      <td>1.000000</td>\n",
       "      <td>1.000000</td>\n",
       "      <td>2.000000</td>\n",
       "      <td>1.000000</td>\n",
       "      <td>3.000000</td>\n",
       "      <td>1.000000</td>\n",
       "    </tr>\n",
       "    <tr>\n",
       "      <th>max</th>\n",
       "      <td>76.000000</td>\n",
       "      <td>1.000000</td>\n",
       "      <td>4.000000</td>\n",
       "      <td>192.000000</td>\n",
       "      <td>564.000000</td>\n",
       "      <td>1.000000</td>\n",
       "      <td>2.000000</td>\n",
       "      <td>202.000000</td>\n",
       "      <td>1.000000</td>\n",
       "      <td>4.200000</td>\n",
       "      <td>3.000000</td>\n",
       "      <td>3.000000</td>\n",
       "      <td>7.000000</td>\n",
       "      <td>1.000000</td>\n",
       "    </tr>\n",
       "  </tbody>\n",
       "</table>\n",
       "</div>"
      ],
      "text/plain": [
       "              Age         Sex  Chest_pain     Rest_BP  Cholestoral_Level  \\\n",
       "count  297.000000  297.000000  297.000000  297.000000         297.000000   \n",
       "mean    38.750842    0.730640    2.390572   94.101010         176.754209   \n",
       "std     24.818501    0.444376    1.197821   59.822795         117.816094   \n",
       "min      1.000000    0.000000    1.000000    1.000000           1.000000   \n",
       "25%      1.000000    0.000000    1.000000    1.000000           1.000000   \n",
       "50%     48.000000    1.000000    2.000000  120.000000         218.000000   \n",
       "75%     58.000000    1.000000    3.000000  135.000000         258.000000   \n",
       "max     76.000000    1.000000    4.000000  192.000000         564.000000   \n",
       "\n",
       "       Fasting_Blood_Sugar    rest_ECG     Max_bpm     Aangina    old_peak  \\\n",
       "count           297.000000  297.000000  297.000000  297.000000  297.000000   \n",
       "mean              0.367003    0.942761  112.252525    0.437710    0.787879   \n",
       "std               0.482801    0.846349   71.612180    0.496942    0.742977   \n",
       "min               0.000000    0.000000    1.000000    0.000000    0.000000   \n",
       "25%               0.000000    0.000000    1.000000    0.000000    0.000000   \n",
       "50%               0.000000    1.000000  149.000000    0.000000    1.000000   \n",
       "75%               1.000000    2.000000  164.000000    1.000000    1.000000   \n",
       "max               1.000000    2.000000  202.000000    1.000000    4.200000   \n",
       "\n",
       "            slope          CA        thal  Heart_disease  \n",
       "count  297.000000  297.000000  297.000000     297.000000  \n",
       "mean     1.336700    0.562290    3.286195       0.461279  \n",
       "std      0.546271    0.675582    2.083294       0.499340  \n",
       "min      1.000000    0.000000    1.000000       0.000000  \n",
       "25%      1.000000    0.000000    1.000000       0.000000  \n",
       "50%      1.000000    0.000000    3.000000       0.000000  \n",
       "75%      2.000000    1.000000    3.000000       1.000000  \n",
       "max      3.000000    3.000000    7.000000       1.000000  "
      ]
     },
     "metadata": {},
     "output_type": "display_data"
    }
   ],
   "source": [
    "df[df['Heart_disease'] > 1] = 1\n",
    "\n",
    "print(df['Heart_disease'].value_counts())\n",
    "display(df.describe())"
   ]
  },
  {
   "cell_type": "markdown",
   "id": "5a5bbb21",
   "metadata": {},
   "source": [
    "<h3>Creating Feature set and Target</h3>"
   ]
  },
  {
   "cell_type": "code",
   "execution_count": 7,
   "id": "1308a2ca",
   "metadata": {},
   "outputs": [
    {
     "name": "stdout",
     "output_type": "stream",
     "text": [
      "Feature Set:  (297, 13)\n",
      "Target Set:  (297, 1)\n"
     ]
    }
   ],
   "source": [
    "X = df.drop('Heart_disease', axis=1)\n",
    "y = df[['Heart_disease']]\n",
    "\n",
    "print(\"Feature Set: \", X.shape)\n",
    "print(\"Target Set: \", y.shape)"
   ]
  },
  {
   "cell_type": "markdown",
   "id": "30fef83c",
   "metadata": {},
   "source": [
    "<h3>Applying One-hot encoding</h3>"
   ]
  },
  {
   "cell_type": "code",
   "execution_count": 8,
   "id": "11d7bbe6",
   "metadata": {},
   "outputs": [
    {
     "data": {
      "text/html": [
       "<div>\n",
       "<style scoped>\n",
       "    .dataframe tbody tr th:only-of-type {\n",
       "        vertical-align: middle;\n",
       "    }\n",
       "\n",
       "    .dataframe tbody tr th {\n",
       "        vertical-align: top;\n",
       "    }\n",
       "\n",
       "    .dataframe thead th {\n",
       "        text-align: right;\n",
       "    }\n",
       "</style>\n",
       "<table border=\"1\" class=\"dataframe\">\n",
       "  <thead>\n",
       "    <tr style=\"text-align: right;\">\n",
       "      <th></th>\n",
       "      <th>Age</th>\n",
       "      <th>Sex</th>\n",
       "      <th>Rest_BP</th>\n",
       "      <th>Cholestoral_Level</th>\n",
       "      <th>Fasting_Blood_Sugar</th>\n",
       "      <th>Max_bpm</th>\n",
       "      <th>Aangina</th>\n",
       "      <th>old_peak</th>\n",
       "      <th>CA</th>\n",
       "      <th>Chest_pain_2.0</th>\n",
       "      <th>Chest_pain_3.0</th>\n",
       "      <th>Chest_pain_4.0</th>\n",
       "      <th>rest_ECG_1.0</th>\n",
       "      <th>rest_ECG_2.0</th>\n",
       "      <th>slope_2.0</th>\n",
       "      <th>slope_3.0</th>\n",
       "      <th>thal_3.0</th>\n",
       "      <th>thal_6.0</th>\n",
       "      <th>thal_7.0</th>\n",
       "    </tr>\n",
       "  </thead>\n",
       "  <tbody>\n",
       "    <tr>\n",
       "      <th>0</th>\n",
       "      <td>63.0</td>\n",
       "      <td>1.0</td>\n",
       "      <td>145.0</td>\n",
       "      <td>233.0</td>\n",
       "      <td>1.0</td>\n",
       "      <td>150.0</td>\n",
       "      <td>0.0</td>\n",
       "      <td>2.3</td>\n",
       "      <td>0.0</td>\n",
       "      <td>0</td>\n",
       "      <td>0</td>\n",
       "      <td>0</td>\n",
       "      <td>0</td>\n",
       "      <td>1</td>\n",
       "      <td>0</td>\n",
       "      <td>1</td>\n",
       "      <td>0</td>\n",
       "      <td>1</td>\n",
       "      <td>0</td>\n",
       "    </tr>\n",
       "    <tr>\n",
       "      <th>1</th>\n",
       "      <td>1.0</td>\n",
       "      <td>1.0</td>\n",
       "      <td>1.0</td>\n",
       "      <td>1.0</td>\n",
       "      <td>1.0</td>\n",
       "      <td>1.0</td>\n",
       "      <td>1.0</td>\n",
       "      <td>1.0</td>\n",
       "      <td>1.0</td>\n",
       "      <td>0</td>\n",
       "      <td>0</td>\n",
       "      <td>0</td>\n",
       "      <td>1</td>\n",
       "      <td>0</td>\n",
       "      <td>0</td>\n",
       "      <td>0</td>\n",
       "      <td>0</td>\n",
       "      <td>0</td>\n",
       "      <td>0</td>\n",
       "    </tr>\n",
       "    <tr>\n",
       "      <th>2</th>\n",
       "      <td>67.0</td>\n",
       "      <td>1.0</td>\n",
       "      <td>120.0</td>\n",
       "      <td>229.0</td>\n",
       "      <td>0.0</td>\n",
       "      <td>129.0</td>\n",
       "      <td>1.0</td>\n",
       "      <td>2.6</td>\n",
       "      <td>2.0</td>\n",
       "      <td>0</td>\n",
       "      <td>0</td>\n",
       "      <td>1</td>\n",
       "      <td>0</td>\n",
       "      <td>1</td>\n",
       "      <td>1</td>\n",
       "      <td>0</td>\n",
       "      <td>0</td>\n",
       "      <td>0</td>\n",
       "      <td>1</td>\n",
       "    </tr>\n",
       "    <tr>\n",
       "      <th>3</th>\n",
       "      <td>37.0</td>\n",
       "      <td>1.0</td>\n",
       "      <td>130.0</td>\n",
       "      <td>250.0</td>\n",
       "      <td>0.0</td>\n",
       "      <td>187.0</td>\n",
       "      <td>0.0</td>\n",
       "      <td>3.5</td>\n",
       "      <td>0.0</td>\n",
       "      <td>0</td>\n",
       "      <td>1</td>\n",
       "      <td>0</td>\n",
       "      <td>0</td>\n",
       "      <td>0</td>\n",
       "      <td>0</td>\n",
       "      <td>1</td>\n",
       "      <td>1</td>\n",
       "      <td>0</td>\n",
       "      <td>0</td>\n",
       "    </tr>\n",
       "    <tr>\n",
       "      <th>4</th>\n",
       "      <td>41.0</td>\n",
       "      <td>0.0</td>\n",
       "      <td>130.0</td>\n",
       "      <td>204.0</td>\n",
       "      <td>0.0</td>\n",
       "      <td>172.0</td>\n",
       "      <td>0.0</td>\n",
       "      <td>1.4</td>\n",
       "      <td>0.0</td>\n",
       "      <td>1</td>\n",
       "      <td>0</td>\n",
       "      <td>0</td>\n",
       "      <td>0</td>\n",
       "      <td>1</td>\n",
       "      <td>0</td>\n",
       "      <td>0</td>\n",
       "      <td>1</td>\n",
       "      <td>0</td>\n",
       "      <td>0</td>\n",
       "    </tr>\n",
       "  </tbody>\n",
       "</table>\n",
       "</div>"
      ],
      "text/plain": [
       "    Age  Sex  Rest_BP  Cholestoral_Level  Fasting_Blood_Sugar  Max_bpm  \\\n",
       "0  63.0  1.0    145.0              233.0                  1.0    150.0   \n",
       "1   1.0  1.0      1.0                1.0                  1.0      1.0   \n",
       "2  67.0  1.0    120.0              229.0                  0.0    129.0   \n",
       "3  37.0  1.0    130.0              250.0                  0.0    187.0   \n",
       "4  41.0  0.0    130.0              204.0                  0.0    172.0   \n",
       "\n",
       "   Aangina  old_peak   CA  Chest_pain_2.0  Chest_pain_3.0  Chest_pain_4.0  \\\n",
       "0      0.0       2.3  0.0               0               0               0   \n",
       "1      1.0       1.0  1.0               0               0               0   \n",
       "2      1.0       2.6  2.0               0               0               1   \n",
       "3      0.0       3.5  0.0               0               1               0   \n",
       "4      0.0       1.4  0.0               1               0               0   \n",
       "\n",
       "   rest_ECG_1.0  rest_ECG_2.0  slope_2.0  slope_3.0  thal_3.0  thal_6.0  \\\n",
       "0             0             1          0          1         0         1   \n",
       "1             1             0          0          0         0         0   \n",
       "2             0             1          1          0         0         0   \n",
       "3             0             0          0          1         1         0   \n",
       "4             0             1          0          0         1         0   \n",
       "\n",
       "   thal_7.0  \n",
       "0         0  \n",
       "1         0  \n",
       "2         1  \n",
       "3         0  \n",
       "4         0  "
      ]
     },
     "metadata": {},
     "output_type": "display_data"
    },
    {
     "name": "stdout",
     "output_type": "stream",
     "text": [
      "(297, 19)\n"
     ]
    }
   ],
   "source": [
    "X = pd.get_dummies(X, columns=['Chest_pain', 'rest_ECG', 'slope', 'thal'], drop_first=True)\n",
    "\n",
    "display(X.head())\n",
    "print(X.shape)"
   ]
  },
  {
   "cell_type": "markdown",
   "id": "3c839269",
   "metadata": {},
   "source": [
    "<h3>Splitting the dataset into test-train set</h3>"
   ]
  },
  {
   "cell_type": "code",
   "execution_count": 9,
   "id": "a2ced8ec",
   "metadata": {},
   "outputs": [
    {
     "name": "stdout",
     "output_type": "stream",
     "text": [
      "(237, 19) (60, 19) (237, 1) (60, 1)\n"
     ]
    }
   ],
   "source": [
    "X_train, X_test, y_train, y_test = train_test_split(X, y, train_size= 0.8, random_state= 63, stratify=y)\n",
    "\n",
    "print(X_train.shape, X_test.shape, y_train.shape, y_test.shape)"
   ]
  },
  {
   "cell_type": "markdown",
   "id": "c28c68b1",
   "metadata": {},
   "source": [
    "<h3>Creating the Machine Learning Model</h3>"
   ]
  },
  {
   "cell_type": "code",
   "execution_count": 10,
   "id": "3bb7faa2",
   "metadata": {},
   "outputs": [],
   "source": [
    "model_DT = DecisionTreeClassifier(random_state=42)\n",
    "model_DT = model_DT.fit(X_train, y_train)"
   ]
  },
  {
   "cell_type": "markdown",
   "id": "bad3f050",
   "metadata": {},
   "source": [
    "<h3>Prediction</h3>"
   ]
  },
  {
   "cell_type": "code",
   "execution_count": 11,
   "id": "fe5e0462",
   "metadata": {},
   "outputs": [],
   "source": [
    "y_pred = model_DT.predict(X_test)"
   ]
  },
  {
   "cell_type": "markdown",
   "id": "c8d760bc",
   "metadata": {},
   "source": [
    "<h3>Prediction Comparison</h3>"
   ]
  },
  {
   "cell_type": "code",
   "execution_count": 12,
   "id": "10af1c07",
   "metadata": {},
   "outputs": [
    {
     "data": {
      "text/html": [
       "<div>\n",
       "<style scoped>\n",
       "    .dataframe tbody tr th:only-of-type {\n",
       "        vertical-align: middle;\n",
       "    }\n",
       "\n",
       "    .dataframe tbody tr th {\n",
       "        vertical-align: top;\n",
       "    }\n",
       "\n",
       "    .dataframe thead th {\n",
       "        text-align: right;\n",
       "    }\n",
       "</style>\n",
       "<table border=\"1\" class=\"dataframe\">\n",
       "  <thead>\n",
       "    <tr style=\"text-align: right;\">\n",
       "      <th></th>\n",
       "      <th>Heart_disease</th>\n",
       "      <th>probability</th>\n",
       "      <th>predicted_Heart_disease</th>\n",
       "    </tr>\n",
       "  </thead>\n",
       "  <tbody>\n",
       "    <tr>\n",
       "      <th>110</th>\n",
       "      <td>1</td>\n",
       "      <td>1.0</td>\n",
       "      <td>1</td>\n",
       "    </tr>\n",
       "    <tr>\n",
       "      <th>112</th>\n",
       "      <td>0</td>\n",
       "      <td>0.0</td>\n",
       "      <td>0</td>\n",
       "    </tr>\n",
       "    <tr>\n",
       "      <th>21</th>\n",
       "      <td>0</td>\n",
       "      <td>1.0</td>\n",
       "      <td>1</td>\n",
       "    </tr>\n",
       "    <tr>\n",
       "      <th>47</th>\n",
       "      <td>1</td>\n",
       "      <td>1.0</td>\n",
       "      <td>1</td>\n",
       "    </tr>\n",
       "    <tr>\n",
       "      <th>300</th>\n",
       "      <td>1</td>\n",
       "      <td>1.0</td>\n",
       "      <td>1</td>\n",
       "    </tr>\n",
       "    <tr>\n",
       "      <th>60</th>\n",
       "      <td>1</td>\n",
       "      <td>1.0</td>\n",
       "      <td>1</td>\n",
       "    </tr>\n",
       "    <tr>\n",
       "      <th>254</th>\n",
       "      <td>0</td>\n",
       "      <td>0.0</td>\n",
       "      <td>0</td>\n",
       "    </tr>\n",
       "    <tr>\n",
       "      <th>37</th>\n",
       "      <td>1</td>\n",
       "      <td>1.0</td>\n",
       "      <td>1</td>\n",
       "    </tr>\n",
       "    <tr>\n",
       "      <th>85</th>\n",
       "      <td>0</td>\n",
       "      <td>0.0</td>\n",
       "      <td>0</td>\n",
       "    </tr>\n",
       "    <tr>\n",
       "      <th>226</th>\n",
       "      <td>0</td>\n",
       "      <td>0.0</td>\n",
       "      <td>0</td>\n",
       "    </tr>\n",
       "  </tbody>\n",
       "</table>\n",
       "</div>"
      ],
      "text/plain": [
       "     Heart_disease  probability  predicted_Heart_disease\n",
       "110              1          1.0                        1\n",
       "112              0          0.0                        0\n",
       "21               0          1.0                        1\n",
       "47               1          1.0                        1\n",
       "300              1          1.0                        1\n",
       "60               1          1.0                        1\n",
       "254              0          0.0                        0\n",
       "37               1          1.0                        1\n",
       "85               0          0.0                        0\n",
       "226              0          0.0                        0"
      ]
     },
     "metadata": {},
     "output_type": "display_data"
    }
   ],
   "source": [
    "y_test['probability'] = np.round(model_DT.predict_proba(X_test)[:,1], 2)\n",
    "y_test['predicted_Heart_disease'] = y_pred\n",
    "\n",
    "display(y_test.sample(10))"
   ]
  },
  {
   "cell_type": "markdown",
   "id": "7c44f0ae",
   "metadata": {},
   "source": [
    "<h3>Tree Diagram of the Decision Tree</h3>"
   ]
  },
  {
   "cell_type": "code",
   "execution_count": 13,
   "id": "65ca7916",
   "metadata": {},
   "outputs": [
    {
     "data": {
      "image/png": "[encoded data removed]",
      "text/plain": [
       "<Figure size 1800x1080 with 1 Axes>"
      ]
     },
     "metadata": {
      "needs_background": "light"
     },
     "output_type": "display_data"
    }
   ],
   "source": [
    "plt.figure(figsize = (25, 15))\n",
    "plot_tree(model_DT, \n",
    "          filled=True,\n",
    "          rounded=True,\n",
    "          class_names = [\"No Heart Disease\", \"Yes Heart Disease\"],\n",
    "          feature_names = X.columns,\n",
    "          max_depth=2, \n",
    "          fontsize=18)\n",
    "\n",
    "plt.show()"
   ]
  },
  {
   "cell_type": "markdown",
   "id": "a433aaba",
   "metadata": {},
   "source": [
    "<h3>Performance Evaluation</h3>"
   ]
  },
  {
   "cell_type": "markdown",
   "id": "a1feec76",
   "metadata": {},
   "source": [
    "<h3>Confusion Matrix</h3>"
   ]
  },
  {
   "cell_type": "code",
   "execution_count": 14,
   "id": "be242ea8",
   "metadata": {},
   "outputs": [
    {
     "name": "stdout",
     "output_type": "stream",
     "text": [
      "confusion_matrix: \n",
      " [[27  5]\n",
      " [ 2 26]]\n"
     ]
    }
   ],
   "source": [
    "confusion_matrix_ = confusion_matrix(y_test['Heart_disease'], \n",
    "                                     y_test['predicted_Heart_disease'])\n",
    "\n",
    "print('confusion_matrix: \\n', confusion_matrix_)"
   ]
  },
  {
   "cell_type": "code",
   "execution_count": 15,
   "id": "e68d0073",
   "metadata": {},
   "outputs": [
    {
     "data": {
      "text/plain": [
       "0    32\n",
       "1    28\n",
       "Name: Heart_disease, dtype: int64"
      ]
     },
     "execution_count": 15,
     "metadata": {},
     "output_type": "execute_result"
    }
   ],
   "source": [
    "y_test['Heart_disease'].value_counts()"
   ]
  },
  {
   "cell_type": "code",
   "execution_count": 16,
   "id": "b704aae7",
   "metadata": {},
   "outputs": [
    {
     "name": "stdout",
     "output_type": "stream",
     "text": [
      "True Positives =  26\n",
      "True Negatives =  27\n",
      "False Positives =  5\n",
      "False Negatives =  2\n"
     ]
    }
   ],
   "source": [
    "TP = confusion_matrix_[1,1]\n",
    "print(\"True Positives = \", TP)\n",
    "\n",
    "TN = confusion_matrix_[0,0]\n",
    "print(\"True Negatives = \", TN)\n",
    "\n",
    "\n",
    "FP = confusion_matrix_[0,1]\n",
    "print(\"False Positives = \", FP)\n",
    "\n",
    "FN = confusion_matrix_[1,0]\n",
    "print(\"False Negatives = \", FN)"
   ]
  },
  {
   "cell_type": "markdown",
   "id": "2378d84c",
   "metadata": {},
   "source": [
    "<h4>Remarks:</h4>\n",
    "\n",
    "* Here we can see from the values that the numbers of false positive and false negative are very tiny which claims this model can predict pretty accurately (correctly). \n",
    "<br>"
   ]
  },
  {
   "cell_type": "code",
   "execution_count": 17,
   "id": "9fe4b39f",
   "metadata": {},
   "outputs": [
    {
     "data": {
      "image/png": "[encoded data removed]",
      "text/plain": [
       "<Figure size 432x288 with 2 Axes>"
      ]
     },
     "metadata": {
      "needs_background": "light"
     },
     "output_type": "display_data"
    }
   ],
   "source": [
    "plot_confusion_matrix(model_DT, \n",
    "                      X_test, \n",
    "                      y_test['Heart_disease'], \n",
    "                      display_labels=[\"Doesn't have Hd\", \"Has Hd\"],\n",
    "                      cmap='Reds')\n",
    "plt.show()"
   ]
  },
  {
   "cell_type": "markdown",
   "id": "324fc9ba",
   "metadata": {},
   "source": [
    "<h4>Accuracy</h4>"
   ]
  },
  {
   "cell_type": "code",
   "execution_count": 18,
   "id": "c3ec8812",
   "metadata": {},
   "outputs": [
    {
     "name": "stdout",
     "output_type": "stream",
     "text": [
      "Accuracy =  88.33 %\n"
     ]
    }
   ],
   "source": [
    "# calculate the accuracy of the model\n",
    "from sklearn.metrics import accuracy_score\n",
    "accuracy = accuracy_score(y_test['Heart_disease'], \n",
    "                           y_test['predicted_Heart_disease'])*100\n",
    "\n",
    "print('Accuracy = ', np.round(accuracy, 2),\"%\")"
   ]
  },
  {
   "cell_type": "markdown",
   "id": "91ac1ae5",
   "metadata": {},
   "source": [
    "<h4>True Positive-False Positive Ratio:</h4>"
   ]
  },
  {
   "cell_type": "code",
   "execution_count": 19,
   "id": "2877f7a2",
   "metadata": {},
   "outputs": [
    {
     "name": "stdout",
     "output_type": "stream",
     "text": [
      "Precision =  8.4 out of 10\n",
      "Recall =  9.3 out of 10\n",
      "f1 score =  8.8 out of 10\n"
     ]
    }
   ],
   "source": [
    "from sklearn.metrics import precision_score\n",
    "from sklearn.metrics import recall_score\n",
    "from sklearn.metrics import f1_score\n",
    "\n",
    "precision_ = np.round(precision_score(y_test['Heart_disease'], \n",
    "                               y_test['predicted_Heart_disease']), 2)\n",
    "recall_ = np.round(recall_score(y_test['Heart_disease'], \n",
    "                               y_test['predicted_Heart_disease']), 2)\n",
    "f1_score_ = np.round(f1_score(y_test['Heart_disease'], \n",
    "                               y_test['predicted_Heart_disease']), 2)\n",
    "\n",
    "print(\"Precision = \", precision_*10,\"out of 10\")\n",
    "print(\"Recall = \", recall_*10,\"out of 10\")\n",
    "print(\"f1 score = \", np.round(f1_score_*10, 2),\"out of 10\") "
   ]
  },
  {
   "cell_type": "code",
   "execution_count": 20,
   "id": "1efe103c",
   "metadata": {},
   "outputs": [
    {
     "name": "stdout",
     "output_type": "stream",
     "text": [
      "The precision rate is:  0.8387096774193549\n",
      "The recall rate is:  0.9285714285714286\n"
     ]
    }
   ],
   "source": [
    "precision_rate = TP / (TP + FP)\n",
    "recall_rate = TP / (TP + FN)\n",
    "print(\"The precision rate is: \", precision_rate)\n",
    "print(\"The recall rate is: \", recall_rate)"
   ]
  },
  {
   "cell_type": "markdown",
   "id": "eb3cd37c",
   "metadata": {},
   "source": [
    "<h4>Remarks:</h4>\n",
    "\n",
    "The <b>recall rate</b> is about <b>93% </b>, that is, still 7% of the patients who has heart disease will be diagnosed wrong. But as of now, it's good enough to continue. And the precision rate is also good (about <b>84%</b>). We know, the higher these values, the better the model. \n",
    "\n",
    "<br>"
   ]
  },
  {
   "cell_type": "markdown",
   "id": "21c2aaa6",
   "metadata": {},
   "source": [
    "<h3>Classification report</h3>"
   ]
  },
  {
   "cell_type": "code",
   "execution_count": 21,
   "id": "3e95eb83",
   "metadata": {},
   "outputs": [
    {
     "name": "stdout",
     "output_type": "stream",
     "text": [
      "Classification Report: \n",
      "               precision    recall  f1-score   support\n",
      "\n",
      "           0       0.93      0.84      0.89        32\n",
      "           1       0.84      0.93      0.88        28\n",
      "\n",
      "    accuracy                           0.88        60\n",
      "   macro avg       0.88      0.89      0.88        60\n",
      "weighted avg       0.89      0.88      0.88        60\n",
      "\n"
     ]
    }
   ],
   "source": [
    "class_report = classification_report(y_test['Heart_disease'], \n",
    "                                   y_test['predicted_Heart_disease'])\n",
    "print(\"Classification Report: \\n\", class_report)"
   ]
  },
  {
   "cell_type": "markdown",
   "id": "1f2f71f1",
   "metadata": {},
   "source": [
    "<h3>ROC: Receiver Operating Characterisitcs and AUC: Area Under the Curve</h3>"
   ]
  },
  {
   "cell_type": "code",
   "execution_count": 22,
   "id": "c96a1ee7",
   "metadata": {},
   "outputs": [
    {
     "data": {
      "image/png": "[encoded data removed]",
      "text/plain": [
       "<Figure size 720x576 with 1 Axes>"
      ]
     },
     "metadata": {
      "needs_background": "light"
     },
     "output_type": "display_data"
    }
   ],
   "source": [
    "fpr, tpr, thr = roc_curve(y_test['Heart_disease'], \n",
    "                          y_test['predicted_Heart_disease'])\n",
    "auc = np.round(roc_auc_score(y_test['Heart_disease'], \n",
    "                             y_test['predicted_Heart_disease']), 2)\n",
    "\n",
    "plt.figure(figsize=(10, 8))\n",
    "plt.plot(fpr, \n",
    "         tpr, \n",
    "         color='green', \n",
    "         lw=2, \n",
    "         label=\"Curve Area = \" +str(auc))\n",
    "\n",
    "plt.plot([0, 1], [0, 1], color='blue', lw=2, linestyle='--')\n",
    "plt.xlabel('False Positive Rate (FPR)')\n",
    "plt.ylabel('True Positive Rate (TPR)')\n",
    "plt.title('ROC curve')\n",
    "plt.legend(loc=\"lower right\")\n",
    "plt.show()"
   ]
  },
  {
   "cell_type": "code",
   "execution_count": 23,
   "id": "cc1ea68d",
   "metadata": {},
   "outputs": [
    {
     "data": {
      "text/plain": [
       "0.8861607142857143"
      ]
     },
     "execution_count": 23,
     "metadata": {},
     "output_type": "execute_result"
    }
   ],
   "source": [
    "from sklearn import metrics\n",
    "\n",
    "metrics.auc(fpr, tpr)"
   ]
  },
  {
   "cell_type": "markdown",
   "id": "40bfa818",
   "metadata": {},
   "source": [
    "<h4>Remarks:</h4> \n",
    "\n",
    "If the AUC is in the range of 0.5~1, that means the model has value of prediction. The higher the score is, the better the model is. Moreover, the model will be a perfect classifier if the AUC equals to one. We got almost <b>0.9</b> of the AUC score, not bad at all!\n",
    "\n",
    "<br>"
   ]
  },
  {
   "cell_type": "markdown",
   "id": "029040e3",
   "metadata": {},
   "source": [
    "<h3>Model Outcome</h3>\n",
    "\n",
    "  This model has an accuracy of <b>88.33%</b> (with random state= 63 as we found some variations with different state no. but this is the highest accuracy state) which explains that while dealing with the dataset this model is preety handy because we know, when the accuracy rate of a model > 85% we can call that model good enough. Although, many more ML algorithms might result more fruitful considering a better accuracy and recall rate which could be explored later. \n",
    "  \n",
    "<h6>Thanks for joining in this data exploratory mission with me.</h6>"
   ]
  },
  {
   "cell_type": "code",
   "execution_count": null,
   "id": "c8ee2d45",
   "metadata": {},
   "outputs": [],
   "source": []
  },
  {
   "cell_type": "code",
   "execution_count": null,
   "id": "1e7f30a3",
   "metadata": {},
   "outputs": [],
   "source": []
  }
 ],
 "metadata": {
  "kernelspec": {
   "display_name": "Python 3 (ipykernel)",
   "language": "python",
   "name": "python3"
  },
  "language_info": {
   "codemirror_mode": {
    "name": "ipython",
    "version": 3
   },
   "file_extension": ".py",
   "mimetype": "text/x-python",
   "name": "python",
   "nbconvert_exporter": "python",
   "pygments_lexer": "ipython3",
   "version": "3.7.4"
  }
 },
 "nbformat": 4,
 "nbformat_minor": 5
}
